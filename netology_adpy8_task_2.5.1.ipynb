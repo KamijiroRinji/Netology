{
 "cells": [
  {
   "cell_type": "code",
   "execution_count": 1,
   "metadata": {},
   "outputs": [],
   "source": [
    "import pandas as pd"
   ]
  },
  {
   "cell_type": "code",
   "execution_count": 8,
   "metadata": {},
   "outputs": [],
   "source": [
    "def count_top3(years: list) -> list:\n",
    "    filename_template = \"names/yob{year}.txt\"\n",
    "    dfs = []\n",
    "    for year in years:\n",
    "        filename = filename_template.format(year=year)\n",
    "        df = pd.read_csv(filename, names=[\"Name\", \"Gender\", \"Count\"])\n",
    "        dfs.append(df)\n",
    "    concatenated_df = pd.concat(dfs, ignore_index=True, sort=False)\n",
    "    sorted_concatenated_df = concatenated_df.sort_values(\"Count\", ascending=False).head(3).Name\n",
    "    unique_top3_names = set(sorted_concatenated_df)\n",
    "    i = 1\n",
    "    while len(unique_top3_names) < 3:\n",
    "        sorted_concatenated_df = concatenated_df.sort_values(\"Count\", ascending=False).head(3 + i).Name\n",
    "        unique_top3_names = set(sorted_concatenated_df)\n",
    "        i += 1\n",
    "    return list(unique_top3_names)"
   ]
  },
  {
   "cell_type": "code",
   "execution_count": 9,
   "metadata": {},
   "outputs": [
    {
     "name": "stdout",
     "output_type": "stream",
     "text": [
      "['William', 'Mary', 'John']\n",
      "['James', 'Robert', 'Linda']\n"
     ]
    }
   ],
   "source": [
    "if __name__ == \"__main__\":\n",
    "    print(count_top3([1880]))\n",
    "    print(count_top3([1900, 1950, 2000]))"
   ]
  },
  {
   "cell_type": "code",
   "execution_count": null,
   "metadata": {},
   "outputs": [],
   "source": []
  }
 ],
 "metadata": {
  "kernelspec": {
   "display_name": "Python 3",
   "language": "python",
   "name": "python3"
  },
  "language_info": {
   "codemirror_mode": {
    "name": "ipython",
    "version": 3
   },
   "file_extension": ".py",
   "mimetype": "text/x-python",
   "name": "python",
   "nbconvert_exporter": "python",
   "pygments_lexer": "ipython3",
   "version": "3.7.4"
  }
 },
 "nbformat": 4,
 "nbformat_minor": 2
}
